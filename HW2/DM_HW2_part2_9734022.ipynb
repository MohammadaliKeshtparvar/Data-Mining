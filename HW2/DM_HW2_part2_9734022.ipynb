{
 "cells": [
  {
   "cell_type": "markdown",
   "id": "484d14b8",
   "metadata": {},
   "source": [
    "<div dir='rtl'>\n",
    "    \n",
    "# بخش دوم\n",
    "\n",
    "</div>"
   ]
  },
  {
   "cell_type": "code",
   "execution_count": null,
   "id": "5112bd57",
   "metadata": {},
   "outputs": [],
   "source": [
    "import tensorflow as tf\n",
    "from tensorflow.keras.datasets import fashion_mnist"
   ]
  },
  {
   "cell_type": "markdown",
   "id": "2c982820",
   "metadata": {},
   "source": [
    "<div dir=rtl>\n",
    "  در این مرحله دیتاست را دریافت می کنیم .\n",
    "</div>"
   ]
  },
  {
   "cell_type": "code",
   "execution_count": 7,
   "id": "07065c11",
   "metadata": {},
   "outputs": [
    {
     "name": "stdout",
     "output_type": "stream",
     "text": [
      "Downloading data from https://storage.googleapis.com/tensorflow/tf-keras-datasets/train-labels-idx1-ubyte.gz\n",
      "32768/29515 [=================================] - 0s 9us/step\n",
      "40960/29515 [=========================================] - 0s 7us/step\n",
      "Downloading data from https://storage.googleapis.com/tensorflow/tf-keras-datasets/train-images-idx3-ubyte.gz\n",
      "26427392/26421880 [==============================] - 30s 1us/step\n",
      "26435584/26421880 [==============================] - 30s 1us/step\n",
      "Downloading data from https://storage.googleapis.com/tensorflow/tf-keras-datasets/t10k-labels-idx1-ubyte.gz\n",
      "16384/5148 [===============================================================================================] - 0s 0us/step\n",
      "Downloading data from https://storage.googleapis.com/tensorflow/tf-keras-datasets/t10k-images-idx3-ubyte.gz\n",
      "4423680/4422102 [==============================] - 5s 1us/step\n",
      "4431872/4422102 [==============================] - 5s 1us/step\n",
      "x_train shape: (60000, 28, 28) y_train shape: (60000,)\n"
     ]
    }
   ],
   "source": [
    "(x_train, y_train), (x_test, y_test) = tf.keras.datasets.fashion_mnist.load_data()\n",
    "print(\"x_train shape:\", x_train.shape, \"y_train shape:\", y_train.shape)"
   ]
  },
  {
   "cell_type": "code",
   "execution_count": 8,
   "id": "69b8cbda",
   "metadata": {},
   "outputs": [],
   "source": [
    "x_train = x_train.reshape(len(x_train),28, 28, 1).astype( 'float32' )\n",
    "input_data = x_train/ 255.0\n",
    "x_test = x_test.reshape(len(x_test),28, 28, 1).astype( 'float32' )\n",
    "test_input_data = x_test/ 255.0"
   ]
  },
  {
   "cell_type": "code",
   "execution_count": 9,
   "id": "a38909e1",
   "metadata": {},
   "outputs": [],
   "source": [
    "import matplotlib.pyplot as plt"
   ]
  },
  {
   "cell_type": "code",
   "execution_count": 11,
   "id": "db6b1c92",
   "metadata": {},
   "outputs": [
    {
     "data": {
      "text/plain": [
       "<matplotlib.image.AxesImage at 0x7fb2d1877310>"
      ]
     },
     "execution_count": 11,
     "metadata": {},
     "output_type": "execute_result"
    },
    {
     "data": {
      "image/png": "[encoded data removed]",
      "text/plain": [
       "<Figure size 432x288 with 1 Axes>"
      ]
     },
     "metadata": {
      "needs_background": "light"
     },
     "output_type": "display_data"
    }
   ],
   "source": [
    "plt.imshow(x_train[0])"
   ]
  },
  {
   "cell_type": "markdown",
   "id": "d48221c5",
   "metadata": {},
   "source": [
    "<div dir=rtl>\n",
    "  داده ها را به صورت نامینال لیبل گذاری می کنیم .\n",
    "</div>"
   ]
  },
  {
   "cell_type": "code",
   "execution_count": 13,
   "id": "cabd3df1",
   "metadata": {},
   "outputs": [],
   "source": [
    "class_name = ['T-shirt/top', 'Trouser', 'Pullover', 'Dress', 'Coat', 'Sandal', 'Shirt', 'Sneaker', 'Bag', 'Ankle boot'] "
   ]
  },
  {
   "cell_type": "code",
   "execution_count": 14,
   "id": "63581acf",
   "metadata": {},
   "outputs": [
    {
     "name": "stdout",
     "output_type": "stream",
     "text": [
      "[0 1 2 3 4 5 6 7 8 9]\n"
     ]
    }
   ],
   "source": [
    "lb = preprocessing.LabelBinarizer()\n",
    "label_data = lb.fit_transform(y_train)\n",
    "test_output_data = lb.transform(y_test)\n",
    "print(lb.classes_)"
   ]
  },
  {
   "cell_type": "markdown",
   "id": "e39219e1",
   "metadata": {},
   "source": [
    "<div dir=rtl>\n",
    " مدل را ایجاد می کنیم \n",
    "</div>"
   ]
  },
  {
   "cell_type": "code",
   "execution_count": 15,
   "id": "0605fcf5",
   "metadata": {},
   "outputs": [],
   "source": [
    "def create_model():\n",
    "    model = tf.keras.Sequential()\n",
    "    model.add(tf.keras.layers.Conv2D(filters=64, kernel_size=2, padding='same', activation='relu', input_shape=(28,28,1))) \n",
    "    model.add(tf.keras.layers.MaxPooling2D(pool_size=2))\n",
    "    model.add(tf.keras.layers.Conv2D(filters=32, kernel_size=2, padding='same', activation='relu'))\n",
    "    model.add(tf.keras.layers.MaxPooling2D(pool_size=2))\n",
    "    model.add(tf.keras.layers.Flatten())\n",
    "    model.add(tf.keras.layers.Dense(256, activation='relu'))\n",
    "    model.add(tf.keras.layers.Dropout(0.5))\n",
    "    model.add(tf.keras.layers.Dense(10, activation='softmax'))\n",
    "    return model"
   ]
  },
  {
   "cell_type": "code",
   "execution_count": 16,
   "id": "e50da2b2",
   "metadata": {},
   "outputs": [
    {
     "name": "stdout",
     "output_type": "stream",
     "text": [
      "Model: \"sequential\"\n",
      "_________________________________________________________________\n",
      " Layer (type)                Output Shape              Param #   \n",
      "=================================================================\n",
      " conv2d (Conv2D)             (None, 28, 28, 64)        320       \n",
      "                                                                 \n",
      " max_pooling2d (MaxPooling2D  (None, 14, 14, 64)       0         \n",
      " )                                                               \n",
      "                                                                 \n",
      " conv2d_1 (Conv2D)           (None, 14, 14, 32)        8224      \n",
      "                                                                 \n",
      " max_pooling2d_1 (MaxPooling  (None, 7, 7, 32)         0         \n",
      " 2D)                                                             \n",
      "                                                                 \n",
      " flatten (Flatten)           (None, 1568)              0         \n",
      "                                                                 \n",
      " dense (Dense)               (None, 256)               401664    \n",
      "                                                                 \n",
      " dropout (Dropout)           (None, 256)               0         \n",
      "                                                                 \n",
      " dense_1 (Dense)             (None, 10)                2570      \n",
      "                                                                 \n",
      "=================================================================\n",
      "Total params: 412,778\n",
      "Trainable params: 412,778\n",
      "Non-trainable params: 0\n",
      "_________________________________________________________________\n"
     ]
    },
    {
     "name": "stderr",
     "output_type": "stream",
     "text": [
      "2022-05-20 22:17:37.905944: E tensorflow/stream_executor/cuda/cuda_driver.cc:271] failed call to cuInit: CUDA_ERROR_NO_DEVICE: no CUDA-capable device is detected\n",
      "2022-05-20 22:17:37.906044: I tensorflow/stream_executor/cuda/cuda_diagnostics.cc:156] kernel driver does not appear to be running on this host (mohammad-HP-Laptop-15-da0xxx): /proc/driver/nvidia/version does not exist\n",
      "2022-05-20 22:17:37.907417: I tensorflow/core/platform/cpu_feature_guard.cc:151] This TensorFlow binary is optimized with oneAPI Deep Neural Network Library (oneDNN) to use the following CPU instructions in performance-critical operations:  AVX2 FMA\n",
      "To enable them in other operations, rebuild TensorFlow with the appropriate compiler flags.\n"
     ]
    }
   ],
   "source": [
    "model = create_model()\n",
    "model.summary()"
   ]
  },
  {
   "cell_type": "code",
   "execution_count": 17,
   "id": "1c5a8ed0",
   "metadata": {},
   "outputs": [],
   "source": [
    "model.compile(loss='categorical_crossentropy',\n",
    "              optimizer='adam',\n",
    "              metrics=['accuracy'])"
   ]
  },
  {
   "cell_type": "code",
   "execution_count": 19,
   "id": "4cd90f15",
   "metadata": {},
   "outputs": [
    {
     "name": "stdout",
     "output_type": "stream",
     "text": [
      "Epoch 1/5\n",
      "1688/1688 [==============================] - 66s 39ms/step - loss: 0.2327 - accuracy: 0.9137 - val_loss: 0.2408 - val_accuracy: 0.9097\n",
      "Epoch 2/5\n",
      "1688/1688 [==============================] - 54s 32ms/step - loss: 0.2172 - accuracy: 0.9200 - val_loss: 0.2317 - val_accuracy: 0.9132\n",
      "Epoch 3/5\n",
      "1688/1688 [==============================] - 50s 30ms/step - loss: 0.2059 - accuracy: 0.9241 - val_loss: 0.2247 - val_accuracy: 0.9177\n",
      "Epoch 4/5\n",
      "1688/1688 [==============================] - 42s 25ms/step - loss: 0.1929 - accuracy: 0.9285 - val_loss: 0.2257 - val_accuracy: 0.9170\n",
      "Epoch 5/5\n",
      "1688/1688 [==============================] - 53s 31ms/step - loss: 0.1806 - accuracy: 0.9334 - val_loss: 0.2204 - val_accuracy: 0.9197\n"
     ]
    }
   ],
   "source": [
    "results = model.fit(input_data, label_data, \n",
    "                             validation_split=0.1, epochs=5)"
   ]
  },
  {
   "cell_type": "markdown",
   "id": "50190d7e",
   "metadata": {},
   "source": [
    "<div dir=rtl>\n",
    "    \n",
    "###### نمودار صحت\n",
    "\n",
    "</div>"
   ]
  },
  {
   "cell_type": "code",
   "execution_count": 20,
   "id": "da362afa",
   "metadata": {},
   "outputs": [
    {
     "data": {
      "text/plain": [
       "Text(0.5, 1.0, 'model accuracy')"
      ]
     },
     "execution_count": 20,
     "metadata": {},
     "output_type": "execute_result"
    },
    {
     "data": {
      "image/png": "[encoded data removed]",
      "text/plain": [
       "<Figure size 432x288 with 1 Axes>"
      ]
     },
     "metadata": {
      "needs_background": "light"
     },
     "output_type": "display_data"
    }
   ],
   "source": [
    "plt.plot(results.history['accuracy'])\n",
    "plt.plot(results.history['val_accuracy'])\n",
    "plt.title('model accuracy')"
   ]
  },
  {
   "cell_type": "markdown",
   "id": "aedfdeea",
   "metadata": {},
   "source": [
    "<div dir=rtl>\n",
    "    \n",
    "###### نمودار خطا\n",
    "\n",
    "</div>"
   ]
  },
  {
   "cell_type": "code",
   "execution_count": 21,
   "id": "20c667b9",
   "metadata": {},
   "outputs": [
    {
     "name": "stdout",
     "output_type": "stream",
     "text": [
      "Maximum Loss : 0.2327\n",
      "\n",
      "Minimum Loss : 0.1806\n",
      "\n",
      "Loss difference : 0.0520\n"
     ]
    },
    {
     "data": {
      "image/png": "[encoded data removed]",
      "text/plain": [
       "<Figure size 432x288 with 1 Axes>"
      ]
     },
     "metadata": {
      "needs_background": "light"
     },
     "output_type": "display_data"
    }
   ],
   "source": [
    "plt.plot(results.history['loss'])\n",
    "plt.plot(results.history['val_loss'])\n",
    "plt.title('model loss')\n",
    "plt.ylabel('loss')\n",
    "plt.xlabel('epoch')\n",
    "plt.legend(['train', 'test'], loc='upper right')\n",
    "\n",
    "max_loss = np.max(results.history['loss'])\n",
    "min_loss = np.min(results.history['loss'])\n",
    "print(\"Maximum Loss : {:.4f}\".format(max_loss))\n",
    "print(\"\")\n",
    "print(\"Minimum Loss : {:.4f}\".format(min_loss))\n",
    "print(\"\")\n",
    "print(\"Loss difference : {:.4f}\".format((max_loss - min_loss)))"
   ]
  },
  {
   "cell_type": "code",
   "execution_count": 22,
   "id": "24973509",
   "metadata": {},
   "outputs": [
    {
     "name": "stdout",
     "output_type": "stream",
     "text": [
      "[1.2318710e-10 1.2714266e-09 1.6154944e-10 4.9491816e-10 2.1102211e-12\n",
      " 2.0220151e-07 4.4137727e-10 7.8645797e-05 5.3117127e-10 9.9992120e-01]\n"
     ]
    }
   ],
   "source": [
    "predictions = model.predict(test_input_data)\n",
    "print(predictions[0])"
   ]
  },
  {
   "cell_type": "code",
   "execution_count": 23,
   "id": "214a6c89",
   "metadata": {},
   "outputs": [
    {
     "name": "stdout",
     "output_type": "stream",
     "text": [
      "first clothing item\n",
      "Predicted label: 9\n",
      "Correct label  :   9\n"
     ]
    }
   ],
   "source": [
    "label_ = [np.argmax(i) for i in predictions]\n",
    "print('first clothing item')\n",
    "print('Predicted label: {}'.format(label_[0]))\n",
    "print('Correct label  :   {}'.format(y_test[0]))"
   ]
  },
  {
   "cell_type": "code",
   "execution_count": 25,
   "id": "d8610add",
   "metadata": {},
   "outputs": [
    {
     "name": "stdout",
     "output_type": "stream",
     "text": [
      "Correctly classified   :  9139 (91.39 %)\n",
      "Incorrectly classified :   861 ( 8.61 %)\n"
     ]
    }
   ],
   "source": [
    "correctly_classified = []\n",
    "incorrectly_classified = []\n",
    "index = 0\n",
    "for actual, predict in zip(y_test, label_):\n",
    "    if actual == predict:\n",
    "        correctly_classified.append(index)\n",
    "    else:\n",
    "        incorrectly_classified.append(index)\n",
    "    index += 1\n",
    "c1 = len(correctly_classified)\n",
    "i1 = len(incorrectly_classified)\n",
    "print('Correctly classified   : {:5d} ({:=5.2f} %)'.format(c1, c1 * 100 / (c1 + i1)))    \n",
    "print('Incorrectly classified : {:5d} ({:=5.2f} %)'.format(i1, i1 * 100 / (c1 + i1)))    "
   ]
  },
  {
   "cell_type": "code",
   "execution_count": 28,
   "id": "ae41b479",
   "metadata": {},
   "outputs": [],
   "source": [
    "import seaborn as sb"
   ]
  },
  {
   "cell_type": "code",
   "execution_count": 27,
   "id": "072f7e71",
   "metadata": {},
   "outputs": [
    {
     "name": "stdout",
     "output_type": "stream",
     "text": [
      "Defaulting to user installation because normal site-packages is not writeable\n",
      "Collecting seaborn\n",
      "  Downloading seaborn-0.11.2-py3-none-any.whl (292 kB)\n",
      "\u001b[2K     \u001b[38;2;114;156;31m━━━━━━━━━━━━━━━━━━━━━━━━━━━━━━━━━━━━━\u001b[0m \u001b[32m292.8/292.8 kB\u001b[0m \u001b[31m701.4 kB/s\u001b[0m eta \u001b[36m0:00:00\u001b[0m[36m0:00:01\u001b[0mm eta \u001b[36m0:00:01\u001b[0m\n",
      "\u001b[?25hRequirement already satisfied: pandas>=0.23 in /home/mohammad/.local/lib/python3.8/site-packages (from seaborn) (1.4.2)\n",
      "Requirement already satisfied: matplotlib>=2.2 in /home/mohammad/.local/lib/python3.8/site-packages (from seaborn) (3.5.2)\n",
      "Requirement already satisfied: scipy>=1.0 in /home/mohammad/.local/lib/python3.8/site-packages (from seaborn) (1.8.0)\n",
      "Requirement already satisfied: numpy>=1.15 in /home/mohammad/.local/lib/python3.8/site-packages (from seaborn) (1.22.3)\n",
      "Requirement already satisfied: pyparsing>=2.2.1 in /usr/lib/python3/dist-packages (from matplotlib>=2.2->seaborn) (2.4.6)\n",
      "Requirement already satisfied: cycler>=0.10 in /home/mohammad/.local/lib/python3.8/site-packages (from matplotlib>=2.2->seaborn) (0.11.0)\n",
      "Requirement already satisfied: pillow>=6.2.0 in /usr/lib/python3/dist-packages (from matplotlib>=2.2->seaborn) (7.0.0)\n",
      "Requirement already satisfied: packaging>=20.0 in /usr/lib/python3/dist-packages (from matplotlib>=2.2->seaborn) (20.3)\n",
      "Requirement already satisfied: kiwisolver>=1.0.1 in /home/mohammad/.local/lib/python3.8/site-packages (from matplotlib>=2.2->seaborn) (1.4.2)\n",
      "Requirement already satisfied: python-dateutil>=2.7 in /home/mohammad/.local/lib/python3.8/site-packages (from matplotlib>=2.2->seaborn) (2.8.2)\n",
      "Requirement already satisfied: fonttools>=4.22.0 in /home/mohammad/.local/lib/python3.8/site-packages (from matplotlib>=2.2->seaborn) (4.33.3)\n",
      "Requirement already satisfied: pytz>=2020.1 in /home/mohammad/.local/lib/python3.8/site-packages (from pandas>=0.23->seaborn) (2022.1)\n",
      "Requirement already satisfied: six>=1.5 in /usr/lib/python3/dist-packages (from python-dateutil>=2.7->matplotlib>=2.2->seaborn) (1.14.0)\n",
      "Installing collected packages: seaborn\n",
      "Successfully installed seaborn-0.11.2\n"
     ]
    }
   ],
   "source": [
    "!pip install seaborn"
   ]
  },
  {
   "cell_type": "code",
   "execution_count": 35,
   "id": "9ea07fb2",
   "metadata": {},
   "outputs": [
    {
     "data": {
      "image/png": "[encoded data removed]",
      "text/plain": [
       "<Figure size 432x288 with 1 Axes>"
      ]
     },
     "metadata": {
      "needs_background": "light"
     },
     "output_type": "display_data"
    }
   ],
   "source": [
    "precision_scores = precision_score(y_test, label_, average=None)\n",
    "y_pos = np.arange(len(precision_scores))\n",
    "plt.bar(y_pos, precision_scores, align='center', alpha=0.6)\n",
    "plt.xticks(y_pos, class_name, rotation=90)\n",
    "plt.ylabel('Precision')\n",
    "plt.title('Precision scores per class')\n",
    "plt.show()"
   ]
  },
  {
   "cell_type": "code",
   "execution_count": 41,
   "id": "01e51bc0",
   "metadata": {},
   "outputs": [
    {
     "name": "stdout",
     "output_type": "stream",
     "text": [
      "accuracy score = 0.9139%\n"
     ]
    }
   ],
   "source": [
    "print(f'accuracy score = {accuracy_score(y_test, label_)}%')"
   ]
  },
  {
   "cell_type": "code",
   "execution_count": 33,
   "id": "9a8cb852",
   "metadata": {},
   "outputs": [
    {
     "data": {
      "image/png": "[encoded data removed]",
      "text/plain": [
       "<Figure size 432x288 with 2 Axes>"
      ]
     },
     "metadata": {
      "needs_background": "light"
     },
     "output_type": "display_data"
    }
   ],
   "source": [
    "conf_matrix = confusion_matrix(y_test, label_)\n",
    "\n",
    "ax = sb.heatmap(conf_matrix, \n",
    "            cmap='Reds', xticklabels=class_name, \n",
    "            yticklabels=class_name,\n",
    "            annot=True, fmt='d')\n",
    "\n",
    "plt.xlabel('Predicted label') \n",
    "plt.ylabel('Correct label') \n",
    "\n",
    "plt.show()\n"
   ]
  },
  {
   "cell_type": "code",
   "execution_count": null,
   "id": "fa054e32",
   "metadata": {},
   "outputs": [],
   "source": []
  }
 ],
 "metadata": {
  "kernelspec": {
   "display_name": "Python 3 (ipykernel)",
   "language": "python",
   "name": "python3"
  },
  "language_info": {
   "codemirror_mode": {
    "name": "ipython",
    "version": 3
   },
   "file_extension": ".py",
   "mimetype": "text/x-python",
   "name": "python",
   "nbconvert_exporter": "python",
   "pygments_lexer": "ipython3",
   "version": "3.8.10"
  }
 },
 "nbformat": 4,
 "nbformat_minor": 5
}
